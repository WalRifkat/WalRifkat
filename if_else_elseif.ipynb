{
 "cells": [
  {
   "cell_type": "code",
   "execution_count": 7,
   "id": "338498ae",
   "metadata": {},
   "outputs": [
    {
     "name": "stdout",
     "output_type": "stream",
     "text": [
      "Значение а равняется значению b\n"
     ]
    }
   ],
   "source": [
    "#if_elif_else\n",
    "a = 1\n",
    "b = 1\n",
    "if a > b:\n",
    "    print(\"Значение а больше, чем значение b\")\n",
    "elif a < b:\n",
    "    print(\"Значение а меньше, чем значение b\")\n",
    "else:\n",
    "    print(\"Значение а равняется значению b\")\n",
    "    "
   ]
  },
  {
   "cell_type": "code",
   "execution_count": null,
   "id": "253be874",
   "metadata": {},
   "outputs": [],
   "source": []
  }
 ],
 "metadata": {
  "kernelspec": {
   "display_name": "Python 3 (ipykernel)",
   "language": "python",
   "name": "python3"
  },
  "language_info": {
   "codemirror_mode": {
    "name": "ipython",
    "version": 3
   },
   "file_extension": ".py",
   "mimetype": "text/x-python",
   "name": "python",
   "nbconvert_exporter": "python",
   "pygments_lexer": "ipython3",
   "version": "3.9.7"
  }
 },
 "nbformat": 4,
 "nbformat_minor": 5
}
